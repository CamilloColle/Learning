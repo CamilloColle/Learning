{
 "cells": [
  {
   "cell_type": "code",
   "execution_count": null,
   "metadata": {},
   "outputs": [],
   "source": [
    "# Import exaroton and set our token\n",
    ">>> from exaroton import Exaroton\n",
    ">>> exa = Exaroton(\"\")\n",
    "\n"
   ]
  },
  {
   "cell_type": "code",
   "execution_count": null,
   "metadata": {},
   "outputs": [],
   "source": [
    "# Get information about the authenticated account\n",
    ">>> exa.get_account()\n",
    "{\n",
    "    \"_\": \"Account\",\n",
    "    \"name\": \"Username\",\n",
    "    \"email\": \"email@example.org\",\n",
    "    \"verified\": true,\n",
    "    \"credits\": 420.69\n",
    "}\n",
    "\n",
    "# Get a list of our servers\n",
    ">>> exa.get_servers()\n",
    "[\n",
    "    {\n",
    "        \"_\": \"Server\",\n",
    "        \"id\": \"7ZxuNK5RX879BFaH\",  # Thanks, random.org!\n",
    "        ...\n",
    "    },\n",
    "    {\n",
    "        \"_\": \"Server\",\n",
    "        \"id\": \"Kf48Td5iVlr8Xu24\",  # Thanks, random.org!\n",
    "        ...\n",
    "    }\n",
    "]\n",
    "\n",
    "# Upload logs to https://mclo.gs\n",
    ">>> exa.upload_logs(\"7ZxuNK5RX879BFaH\")\n",
    "{\n",
    "    \"_\": \"Logs\",\n",
    "    \"id\": \"N5FR4K2\",  # Thanks, random.org!\n",
    "    \"url\": \"https://mclo.gs/N5FR4K2\",\n",
    "    \"raw\": \"https://api.mclo.gs/1/raw/N5FR4K2\"\n",
    "}\n",
    "\n",
    "# Print logs (this'll most likely spam your output lol)\n",
    ">>> exa.get_server_logs(\"7ZxuNK5RX879BFaH\")\n",
    "'one extremely long string with lines seperated by the newline escape character \\n'\n",
    "# It'll print each line seperately when used with `print()`!"
   ]
  }
 ],
 "metadata": {
  "kernelspec": {
   "display_name": "api_venv",
   "language": "python",
   "name": "python3"
  },
  "language_info": {
   "name": "python",
   "version": "3.11.9"
  }
 },
 "nbformat": 4,
 "nbformat_minor": 2
}
