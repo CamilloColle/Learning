{
 "cells": [
  {
   "cell_type": "code",
   "execution_count": 1,
   "metadata": {},
   "outputs": [],
   "source": [
    "# Import exaroton and set our token\n",
    "from exaroton import Exaroton\n",
    "from api_keys import exaroton  # Changed from EXAROTON_API_KEY to exaroton\n",
    "exa = Exaroton(exaroton)"
   ]
  },
  {
   "cell_type": "code",
   "execution_count": 10,
   "metadata": {},
   "outputs": [
    {
     "data": {
      "text/plain": [
       "<Account: {'name': 'MyloProdi', 'email': 'camillo.colleluori@gmail.com', 'verified': True, 'credits': 250}>"
      ]
     },
     "execution_count": 10,
     "metadata": {},
     "output_type": "execute_result"
    }
   ],
   "source": [
    "# Get information about the authenticated account\n",
    "exa.get_account()\n",
    "\n"
   ]
  },
  {
   "cell_type": "code",
   "execution_count": 16,
   "metadata": {},
   "outputs": [
    {
     "name": "stdout",
     "output_type": "stream",
     "text": [
      "xfK2XE0qbblnIK0S\n"
     ]
    }
   ],
   "source": [
    "\n",
    "# Get a list of our servers\n",
    "exa.get_servers()\n",
    "server_id = exa.get_servers()[0].id\n",
    "print(server_id)\n"
   ]
  },
  {
   "cell_type": "code",
   "execution_count": null,
   "metadata": {},
   "outputs": [
    {
     "name": "stdout",
     "output_type": "stream",
     "text": [
      "View logs in browser: https://mclo.gs/9YmAkr6\n"
     ]
    }
   ],
   "source": [
    "# View logs\n",
    "# Upload logs to https://mclo.gs\n",
    "# Can't upload logs when server is offline - need to start server first\n",
    "server = exa.get_server(server_id)\n",
    "if server.status == \"Offline\":\n",
    "    print(\"Cannot upload logs - server is offline\")\n",
    "else:\n",
    "    upload_result = exa.upload_logs(server_id)\n",
    "\n",
    "\n",
    "print(f\"View logs in browser: {upload_result.url}\")\n"
   ]
  },
  {
   "cell_type": "code",
   "execution_count": null,
   "metadata": {},
   "outputs": [],
   "source": [
    "exa.get_player_lists(server_id)\n",
    "players = exa.get_player_list(server_id, 'ops')"
   ]
  },
  {
   "cell_type": "code",
   "execution_count": 28,
   "metadata": {},
   "outputs": [
    {
     "data": {
      "text/plain": [
       "False"
      ]
     },
     "execution_count": 28,
     "metadata": {},
     "output_type": "execute_result"
    }
   ],
   "source": [
    "server.shared"
   ]
  },
  {
   "cell_type": "code",
   "execution_count": null,
   "metadata": {},
   "outputs": [],
   "source": []
  }
 ],
 "metadata": {
  "kernelspec": {
   "display_name": "api_venv",
   "language": "python",
   "name": "python3"
  },
  "language_info": {
   "codemirror_mode": {
    "name": "ipython",
    "version": 3
   },
   "file_extension": ".py",
   "mimetype": "text/x-python",
   "name": "python",
   "nbconvert_exporter": "python",
   "pygments_lexer": "ipython3",
   "version": "3.11.9"
  }
 },
 "nbformat": 4,
 "nbformat_minor": 2
}
